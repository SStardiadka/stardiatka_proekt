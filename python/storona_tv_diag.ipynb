{
 "cells": [
  {
   "cell_type": "code",
   "execution_count": 3,
   "metadata": {},
   "outputs": [
    {
     "name": "stdout",
     "output_type": "stream",
     "text": [
      "Диагональ: (47) дюймов @@@ (119.38) сантиметров\n",
      "сторона1: ( 37.6 ) \"дюймов\" @@@ сторона2: ( 28.2 ) \"дюймов\"\n",
      "сторона1: ( 95.504 ) 'сантиметров' @@@ сторона2: ( 71.628 ) 'сантиметров'\n"
     ]
    }
   ],
   "source": [
    "# diag = int(input())\n",
    "# soot1 = int(input())\n",
    "# soot2 = int(input())\n",
    "def storona_tv_diag(diag, soot1=16, soot2=9):\n",
    "    a = (diag**2) / (soot1 + soot2)\n",
    "    print(f'Диагональ: ({diag}) дюймов @@@ ({diag * 2.54}) сантиметров')\n",
    "    print(\"сторона1:\",'(',(a*soot1)**(1/2),')','\"дюймов\"','@@@',\"сторона2:\",'(',(a*soot2)**(1/2),')','\"дюймов\"')\n",
    "    print(\"сторона1:\",'(',(a*soot1)**(1/2) * 2.54,')',\"'сантиметров'\",'@@@',\"сторона2:\",'(',(a*soot2)**(1/2) * 2.54,')',\"'сантиметров'\")\n",
    "storona_tv_diag(int(input()))\n",
    "    \n",
    "    \n",
    "    \n",
    "    \n",
    "    \n",
    "    "
   ]
  }
 ],
 "metadata": {
  "kernelspec": {
   "display_name": "Python 3.11.1 64-bit",
   "language": "python",
   "name": "python3"
  },
  "language_info": {
   "codemirror_mode": {
    "name": "ipython",
    "version": 3
   },
   "file_extension": ".py",
   "mimetype": "text/x-python",
   "name": "python",
   "nbconvert_exporter": "python",
   "pygments_lexer": "ipython3",
   "version": "3.11.1"
  },
  "orig_nbformat": 4,
  "vscode": {
   "interpreter": {
    "hash": "5238573367df39f7286bb46f9ff5f08f63a01a80960060ce41e3c79b190280fa"
   }
  }
 },
 "nbformat": 4,
 "nbformat_minor": 2
}

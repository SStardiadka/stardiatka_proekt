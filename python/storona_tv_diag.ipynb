{
 "cells": [
  {
   "cell_type": "code",
   "execution_count": 1,
   "metadata": {},
   "outputs": [
    {
     "name": "stdout",
     "output_type": "stream",
     "text": [
      "Диагональ: (43) дюймов @@@ (109.22) сантиметров\n",
      "сторона1: ( 34.4 ) \"дюймов\" @@@ сторона2: ( 25.8 ) \"дюймов\"\n",
      "сторона1: ( 87.37599999999999 ) 'сантиметров' @@@ сторона2: ( 65.532 ) 'сантиметров'\n"
     ]
    }
   ],
   "source": [
    "diag = int(input())\n",
    "soot1 = int(input())\n",
    "soot2 = int(input())\n",
    "a = (diag**2) / (soot1 + soot2)\n",
    "print(f'Диагональ: ({diag}) дюймов @@@ ({diag * 2.54}) сантиметров')\n",
    "print(\"сторона1:\",'(',(a*soot1)**(1/2),')','\"дюймов\"','@@@',\"сторона2:\",'(',(a*soot2)**(1/2),')','\"дюймов\"')\n",
    "print(\"сторона1:\",'(',(a*soot1)**(1/2) * 2.54,')',\"'сантиметров'\",'@@@',\"сторона2:\",'(',(a*soot2)**(1/2) * 2.54,')',\"'сантиметров'\")"
   ]
  }
 ],
 "metadata": {
  "kernelspec": {
   "display_name": "Python 3.10.6 64-bit",
   "language": "python",
   "name": "python3"
  },
  "language_info": {
   "codemirror_mode": {
    "name": "ipython",
    "version": 3
   },
   "file_extension": ".py",
   "mimetype": "text/x-python",
   "name": "python",
   "nbconvert_exporter": "python",
   "pygments_lexer": "ipython3",
   "version": "3.10.6"
  },
  "orig_nbformat": 4,
  "vscode": {
   "interpreter": {
    "hash": "26de051ba29f2982a8de78e945f0abaf191376122a1563185a90213a26c5da77"
   }
  }
 },
 "nbformat": 4,
 "nbformat_minor": 2
}

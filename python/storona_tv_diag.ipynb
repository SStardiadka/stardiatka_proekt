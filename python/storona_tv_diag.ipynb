{
 "cells": [
  {
   "cell_type": "code",
   "execution_count": 3,
   "metadata": {},
   "outputs": [
    {
     "name": "stdout",
     "output_type": "stream",
     "text": [
      "\u001b[32mДиагональ: (32) дюймов @@@ (81.28) сантиметров\u001b[0m\n",
      "\u001b[34mсторона1: 25.6 дюймов @@@  сторона2: 19.2  дюймов \u001b[0m\n",
      "\u001b[31mсторона1: 65.024 сантиметров @@@ сторона2: 48.768 сантиметров \u001b[0m\n"
     ]
    }
   ],
   "source": [
    "from termcolor2 import c\n",
    "# print(c('\"Some text').blue.on_white.underline)\n",
    "def storona_tv_diag(diag, soot1=16, soot2=9):\n",
    "    a = (diag**2) / (soot1 + soot2)\n",
    "    print(c(f'Диагональ: ({diag}) дюймов @@@ ({diag * 2.54}) сантиметров').green)\n",
    "    print(c(f'сторона1: {(a*soot1)**(1/2)} дюймов @@@  сторона2: {(a*soot2)**(1/2)}  дюймов ').blue)\n",
    "    print(c(f\"сторона1: {(a*soot1)**(1/2) * 2.54} сантиметров @@@ сторона2: {(a*soot2)**(1/2) * 2.54} сантиметров \").red)\n",
    "storona_tv_diag(int(input()))\n",
    "    \n",
    "    \n",
    "    \n",
    "    \n",
    "    \n",
    "    "
   ]
  }
 ],
 "metadata": {
  "kernelspec": {
   "display_name": "Python 3.11.1 64-bit",
   "language": "python",
   "name": "python3"
  },
  "language_info": {
   "codemirror_mode": {
    "name": "ipython",
    "version": 3
   },
   "file_extension": ".py",
   "mimetype": "text/x-python",
   "name": "python",
   "nbconvert_exporter": "python",
   "pygments_lexer": "ipython3",
   "version": "3.11.1"
  },
  "orig_nbformat": 4,
  "vscode": {
   "interpreter": {
    "hash": "5238573367df39f7286bb46f9ff5f08f63a01a80960060ce41e3c79b190280fa"
   }
  }
 },
 "nbformat": 4,
 "nbformat_minor": 2
}

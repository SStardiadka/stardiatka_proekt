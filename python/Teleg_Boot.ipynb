{
 "cells": [
  {
   "cell_type": "code",
   "execution_count": 1,
   "metadata": {
    "pycharm": {
     "name": "#%%\n"
    }
   },
   "outputs": [],
   "source": [
    "import telebot\n",
    "bot = telebot.TeleBot('5665309474:AAHXzsdWimYznYy0KBOarFrEHW_wXO12zdc')\n",
    "\n",
    "@bot.message_handler(content_types=['text', 'document', 'audio'])\n",
    "def get_text_messages(message):\n",
    "    if message.text == \"Привет\":\n",
    "        bot.send_message(message.from_user.id, \"Привет, чем я могу тебе помочь?\")\n",
    "    elif message.text == \"/help\":\n",
    "        bot.send_message(message.from_user.id, \"Напиши Привет\")\n",
    "    else:\n",
    "        bot.send_message(message.from_user.id, \"Я тебя не понимаю. Напиши /help.\")\n",
    "\n",
    "bot.polling(none_stop=True, interval=0)"
   ]
  }
 ],
 "metadata": {
  "kernelspec": {
   "display_name": "Python 3.11.1 64-bit",
   "language": "python",
   "name": "python3"
  },
  "language_info": {
   "codemirror_mode": {
    "name": "ipython",
    "version": 3
   },
   "file_extension": ".py",
   "mimetype": "text/x-python",
   "name": "python",
   "nbconvert_exporter": "python",
   "pygments_lexer": "ipython3",
   "version": "3.11.1"
  },
  "orig_nbformat": 4,
  "vscode": {
   "interpreter": {
    "hash": "5238573367df39f7286bb46f9ff5f08f63a01a80960060ce41e3c79b190280fa"
   }
  }
 },
 "nbformat": 4,
 "nbformat_minor": 2
}

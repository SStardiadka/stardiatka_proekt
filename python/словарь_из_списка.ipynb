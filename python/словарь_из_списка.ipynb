{
 "cells": [
  {
   "cell_type": "code",
   "execution_count": 8,
   "metadata": {},
   "outputs": [
    {
     "data": {
      "text/plain": [
       "{'1111': '21111', '3': '4', '5': '6', '8': '9'}"
      ]
     },
     "execution_count": 8,
     "metadata": {},
     "output_type": "execute_result"
    }
   ],
   "source": [
    "#  словарь_из_списка\n",
    "a = ['1111', '21111', '3', '4','5', '6', '8', '9']\n",
    "def dict_vs_list(a):\n",
    "    aa ={} \n",
    "    if len(a) % 2 == 0: \n",
    "        for k in range(0,len(a),2):\n",
    "            aa[a[k]] = a[k+1]\n",
    "    else:\n",
    "        for k in range(0,len(a)-1,2):\n",
    "            aa[a[k]] = a[k+1]\n",
    "        aa[-1] = a[-1]\n",
    "    return aa\n",
    "\n",
    "dict_vs_list(a)\n",
    "\n",
    "  \n",
    "    \n",
    "    \n",
    "    \n"
   ]
  }
 ],
 "metadata": {
  "kernelspec": {
   "display_name": "Python 3.11.1 64-bit",
   "language": "python",
   "name": "python3"
  },
  "language_info": {
   "codemirror_mode": {
    "name": "ipython",
    "version": 3
   },
   "file_extension": ".py",
   "mimetype": "text/x-python",
   "name": "python",
   "nbconvert_exporter": "python",
   "pygments_lexer": "ipython3",
   "version": "3.11.1"
  },
  "orig_nbformat": 4,
  "vscode": {
   "interpreter": {
    "hash": "5238573367df39f7286bb46f9ff5f08f63a01a80960060ce41e3c79b190280fa"
   }
  }
 },
 "nbformat": 4,
 "nbformat_minor": 2
}

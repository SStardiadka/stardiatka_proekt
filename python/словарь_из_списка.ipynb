{
 "cells": [
  {
   "cell_type": "code",
   "execution_count": 8,
   "metadata": {},
   "outputs": [
    {
     "data": {
      "text/plain": [
       "{'1111': '21111', '3': '4', '5': '6', '8': '9'}"
      ]
     },
     "execution_count": 8,
     "metadata": {},
     "output_type": "execute_result"
    }
   ],
   "source": [
    "#  словарь_из_списка\n",
    "a = ['1111', '21111', '3', '4','5', '6', '8', '9']\n",
    "def dict_vs_list(a):\n",
    "    aa ={} \n",
    "    if len(a) % 2 == 0: \n",
    "        for k in range(0,len(a),2):\n",
    "            aa[a[k]] = a[k+1]\n",
    "    else:\n",
    "        for k in range(0,len(a)-1,2):\n",
    "            aa[a[k]] = a[k+1]\n",
    "        aa[-1] = a[-1]\n",
    "    return aa\n",
    "\n",
    "dict_vs_list(a)\n",
    "\n",
    "  \n",
    "    \n",
    "    \n",
    "    \n"
   ]
  }
 ],
 "metadata": {
  "kernelspec": {
   "display_name": "Python 3.10.6 64-bit",
   "language": "python",
   "name": "python3"
  },
  "language_info": {
   "codemirror_mode": {
    "name": "ipython",
    "version": 3
   },
   "file_extension": ".py",
   "mimetype": "text/x-python",
   "name": "python",
   "nbconvert_exporter": "python",
   "pygments_lexer": "ipython3",
   "version": "3.10.8"
  },
  "orig_nbformat": 4,
  "vscode": {
   "interpreter": {
    "hash": "26de051ba29f2982a8de78e945f0abaf191376122a1563185a90213a26c5da77"
   }
  }
 },
 "nbformat": 4,
 "nbformat_minor": 2
}

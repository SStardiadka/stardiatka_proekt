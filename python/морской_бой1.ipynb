{
 "cells": [
  {
   "cell_type": "code",
   "execution_count": 1,
   "metadata": {},
   "outputs": [
    {
     "name": "stdout",
     "output_type": "stream",
     "text": [
      "['  ', 'А', 'Б', 'В', 'Г', 'Д', 'Е', 'Ж', 'З', 'И', 'К']\n",
      "['0 ', '.', '.', '.', '.', '.', '.', '.', '.', '.', '.']\n",
      "['1 ', '.', '.', '.', '.', '.', '.', '.', '.', '.', '.']\n",
      "['2 ', '.', '.', '.', '.', '.', '.', '.', '.', '.', '.']\n",
      "['3 ', '.', '.', '.', '.', '.', '.', '.', '.', '.', '.']\n",
      "['4 ', '.', '.', '.', '.', '.', '.', '.', '.', '.', '.']\n",
      "['5 ', '.', '.', '.', '.', '.', '.', '.', '.', '.', '.']\n",
      "['6 ', '.', '.', '.', '.', '.', '.', '.', '.', '.', '.']\n",
      "['7 ', '.', '.', '.', '.', '.', '.', '.', '.', '.', '.']\n",
      "['8 ', '.', '.', '.', '.', '.', '.', '.', '.', '.', '.']\n",
      "['9 ', '.', '.', '.', '.', '.', '.', '.', '.', '.', '.']\n"
     ]
    }
   ],
   "source": [
    "class SeaBattle:\n",
    "    __POLE = {'A': 1, 'B': 2, 'C': 3, 'D': 4, 'E': 5, 'F': 6, 'G': 7, 'H': 8, 'I': 9, 'J': 10}\n",
    "    __POLE1 = {1: 'A', 2: 'B', 3: 'C', 4: 'D', 5: 'E', 6: 'F', 7: 'G', 8: 'H', 9: 'I', 10: 'J'}\n",
    "    def __init__(self):\n",
    "        matr, matr1 = [], []\n",
    "        matr.append(['  ', 'А', 'Б', 'В', 'Г', 'Д', 'Е', 'Ж', 'З', 'И', 'К'])\n",
    "        for i, k in enumerate([*range(1, 11)]):\n",
    "            for j, k1 in enumerate([*range(11)],1):\n",
    "                if j == 1:\n",
    "                    matr1.append(str(i) + ' ')\n",
    "                else:\n",
    "                    matr1.append('.')\n",
    "            matr.append(matr1)\n",
    "            matr1 = []\n",
    "        for i in matr:\n",
    "            print(i)\n",
    "sdf = ['A1', 'A2', 'A3', 'A4']\n",
    "for i in sdf:\n",
    "    matr1\n",
    "s1 = SeaBattle()\n",
    "\n"
   ]
  }
 ],
 "metadata": {
  "kernelspec": {
   "display_name": "Python 3.11.1 64-bit",
   "language": "python",
   "name": "python3"
  },
  "language_info": {
   "codemirror_mode": {
    "name": "ipython",
    "version": 3
   },
   "file_extension": ".py",
   "mimetype": "text/x-python",
   "name": "python",
   "nbconvert_exporter": "python",
   "pygments_lexer": "ipython3",
   "version": "3.11.1"
  },
  "orig_nbformat": 4,
  "vscode": {
   "interpreter": {
    "hash": "5238573367df39f7286bb46f9ff5f08f63a01a80960060ce41e3c79b190280fa"
   }
  }
 },
 "nbformat": 4,
 "nbformat_minor": 2
}

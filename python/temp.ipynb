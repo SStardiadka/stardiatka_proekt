{
 "cells": [
  {
   "cell_type": "code",
   "execution_count": 8,
   "metadata": {},
   "outputs": [
    {
     "name": "stdout",
     "output_type": "stream",
     "text": [
      "OK\n",
      "name1\n",
      "OK\n"
     ]
    }
   ],
   "source": [
    "def visov_nomer_name(nomer):\n",
    "                         \n",
    "                     \n",
    "                     \n",
    "\n",
    "dk, lst, s = {}, [], 1\n",
    "for _ in range(int(input())):\n",
    "    nik = input()\n",
    "    s = 1\n",
    "    if nik not in dk:\n",
    "        lst.append((f'{nik}@Дмитрий.by {s}').split())\n",
    "        s += 1\n",
    "        print('OK')\n",
    "        dk.setdefault(nik, 0)\n",
    "    else:\n",
    "        dk[nik] = dk.setdefault(nik, 0) + 1\n",
    "        print(nik + str(dk[nik]))\n",
    "        "
   ]
  }
 ],
 "metadata": {
  "kernelspec": {
   "display_name": "Python 3.10.6 64-bit",
   "language": "python",
   "name": "python3"
  },
  "language_info": {
   "codemirror_mode": {
    "name": "ipython",
    "version": 3
   },
   "file_extension": ".py",
   "mimetype": "text/x-python",
   "name": "python",
   "nbconvert_exporter": "python",
   "pygments_lexer": "ipython3",
   "version": "3.10.8"
  },
  "orig_nbformat": 4,
  "vscode": {
   "interpreter": {
    "hash": "26de051ba29f2982a8de78e945f0abaf191376122a1563185a90213a26c5da77"
   }
  }
 },
 "nbformat": 4,
 "nbformat_minor": 2
}

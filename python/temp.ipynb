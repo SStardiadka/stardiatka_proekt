{
 "cells": [
  {
   "cell_type": "code",
   "execution_count": 16,
   "metadata": {},
   "outputs": [
    {
     "name": "stdout",
     "output_type": "stream",
     "text": [
      "2077145563088\n",
      "2077145083728\n",
      "2077145383568\n",
      "2077145388880\n",
      "2077145397648\n",
      "140706770808008\n",
      "140706770808008\n",
      "140706770808008\n",
      "140706770808008\n",
      "140706770808008\n"
     ]
    }
   ],
   "source": [
    "class SingletonFive:\n",
    "    __cls = None\n",
    "    st = 0\n",
    "    def __new__(cls, *args, **kwargs):\n",
    "        for i in range(4):\n",
    "            cls.st += 1\n",
    "            if cls.st <= 5:\n",
    "                __cls = super().__new__(cls)\n",
    "                return __cls\n",
    "    \n",
    "    def __init__(self, name):\n",
    "        self.name = name\n",
    "        \n",
    "objs = [SingletonFive(str(n)) for n in range(10)]\n",
    "for i in objs:\n",
    "    print(id(i))"
   ]
  }
 ],
 "metadata": {
  "kernelspec": {
   "display_name": "Python 3.11.1 64-bit",
   "language": "python",
   "name": "python3"
  },
  "language_info": {
   "codemirror_mode": {
    "name": "ipython",
    "version": 3
   },
   "file_extension": ".py",
   "mimetype": "text/x-python",
   "name": "python",
   "nbconvert_exporter": "python",
   "pygments_lexer": "ipython3",
   "version": "3.11.1"
  },
  "orig_nbformat": 4,
  "vscode": {
   "interpreter": {
    "hash": "5238573367df39f7286bb46f9ff5f08f63a01a80960060ce41e3c79b190280fa"
   }
  }
 },
 "nbformat": 4,
 "nbformat_minor": 2
}

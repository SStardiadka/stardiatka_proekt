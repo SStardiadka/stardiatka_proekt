{
 "cells": [
  {
   "cell_type": "code",
   "execution_count": 8,
   "metadata": {},
   "outputs": [
    {
     "name": "stdout",
     "output_type": "stream",
     "text": [
      "Васильев Иван 750ч. 7500тгр.\n",
      "Васильев Иван 1250ч. 15000тгр.\n",
      "Васильев Иван 1500ч. 20000тгр.\n",
      "Васильев Иван 1750ч. 25250тгр.\n",
      "Senior 1760 25470 22\n"
     ]
    }
   ],
   "source": [
    "class Programmer:\n",
    "    def __init__(self, name, job_title) -> None:\n",
    "        self.name = name\n",
    "        self.job_title = job_title\n",
    "        self.time = 0\n",
    "        self.check = 0\n",
    "        if self.job_title == \"Junior\":\n",
    "            self.salary = 10\n",
    "        if self.job_title == \"Middle\":\n",
    "            self.salary = 15\n",
    "        if self.job_title == \"Senior\":\n",
    "            self.salary = 20\n",
    "        \n",
    "        \n",
    "    def work(self, time):\n",
    "        self.time += time\n",
    "        check = time * self.salary\n",
    "        self.check += check\n",
    "        \n",
    "        \n",
    "        \n",
    "    def rise(self):\n",
    "        if self.job_title == \"Senior\":\n",
    "            self.salary += 1\n",
    "            self.job_title = \"Senior\"\n",
    "        elif self.job_title == \"Junior\":\n",
    "            self.salary += 5\n",
    "            self.job_title = \"Middle\"\n",
    "        elif self.job_title == \"Middle\":\n",
    "            self.salary += 5\n",
    "            self.job_title = \"Senior\"\n",
    "            \n",
    "           \n",
    "        \n",
    "    def info(self):\n",
    "        return(f'{self.name} {self.time}ч. {self.check}тгр.')       \n",
    "        \n",
    "        \n",
    "programmer = Programmer('Васильев Иван', 'Junior')\n",
    "programmer.work(750)\n",
    "print(programmer.info())\n",
    "programmer.rise()\n",
    "programmer.work(500)\n",
    "print(programmer.info())\n",
    "programmer.rise()\n",
    "programmer.work(250)\n",
    "print(programmer.info())\n",
    "programmer.rise()\n",
    "programmer.work(250)\n",
    "print(programmer.info())\n",
    "programmer.rise()\n",
    "programmer.work(10)\n",
    "print(programmer.job_title, programmer.time, programmer.check, programmer.salary)\n",
    "\n"
   ]
  }
 ],
 "metadata": {
  "kernelspec": {
   "display_name": "Python 3.11.1 64-bit",
   "language": "python",
   "name": "python3"
  },
  "language_info": {
   "codemirror_mode": {
    "name": "ipython",
    "version": 3
   },
   "file_extension": ".py",
   "mimetype": "text/x-python",
   "name": "python",
   "nbconvert_exporter": "python",
   "pygments_lexer": "ipython3",
   "version": "3.11.1"
  },
  "orig_nbformat": 4,
  "vscode": {
   "interpreter": {
    "hash": "5238573367df39f7286bb46f9ff5f08f63a01a80960060ce41e3c79b190280fa"
   }
  }
 },
 "nbformat": 4,
 "nbformat_minor": 2
}

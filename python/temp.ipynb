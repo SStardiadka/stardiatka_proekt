{
 "cells": [
  {
   "cell_type": "code",
   "execution_count": 2,
   "metadata": {},
   "outputs": [
    {
     "name": "stdout",
     "output_type": "stream",
     "text": [
      "['5', '9022']\n",
      "[[], [], [], [], []] ['5', '9022']\n"
     ]
    }
   ],
   "source": [
    "with open(r\"C:\\Users\\user\\Desktop\\1111.txt\", encoding='utf8') as output:\n",
    "    # print(output.readlines())\n",
    "    a  = output.readline().split()\n",
    "    print(a)\n",
    "    \n",
    "    lst = []\n",
    "    for line in output:\n",
    "        aa = line.strip().split()\n",
    "        lst.append(aa)\n",
    "    \n",
    "        n, v = [int(i) for i in input().split()]\n",
    "        lst = [list(map(int,(input().split()))) for i in range(n)]\n",
    "    print(lst, a)\n",
    "        \n",
    "    #     dk.setdefault(int(a[0]), int(a[1]))\n",
    "    # print(s, v)\n",
    "    # print(dk)\n",
    "    \n",
    "#     print(a[0], a[1:])\n",
    "#     # dk = dict(zip(a,b))\n",
    "#     # dk1 = dict(zip(b,a))\n",
    "#     # for  i in c:\n",
    "#     #     print(dk[i], end='')\n",
    "#     #     # print()\n",
    "#     #     # print(dk1[i], end='')\n",
    "#     for i in a[]\n",
    "#     a = sorted(a[1:], key=lambda x: int(x[0]) / int(x[1]))\n",
    "#     print(a)\n",
    "# print(3336 / 9926)\n",
    "# a = 3336 / 9926\n",
    "# print(6826 * a)\n",
    "# c = 6826 * a\n",
    "# print(c + 3316)\n"
   ]
  },
  {
   "cell_type": "code",
   "execution_count": null,
   "metadata": {},
   "outputs": [],
   "source": []
  }
 ],
 "metadata": {
  "kernelspec": {
   "display_name": "Python 3.11.1 64-bit",
   "language": "python",
   "name": "python3"
  },
  "language_info": {
   "codemirror_mode": {
    "name": "ipython",
    "version": 3
   },
   "file_extension": ".py",
   "mimetype": "text/x-python",
   "name": "python",
   "nbconvert_exporter": "python",
   "pygments_lexer": "ipython3",
   "version": "3.11.1"
  },
  "orig_nbformat": 4,
  "vscode": {
   "interpreter": {
    "hash": "5238573367df39f7286bb46f9ff5f08f63a01a80960060ce41e3c79b190280fa"
   }
  }
 },
 "nbformat": 4,
 "nbformat_minor": 2
}

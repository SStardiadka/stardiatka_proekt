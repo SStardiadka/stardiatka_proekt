{
 "cells": [
  {
   "cell_type": "code",
   "execution_count": 4,
   "metadata": {},
   "outputs": [
    {
     "name": "stdout",
     "output_type": "stream",
     "text": [
      "0 0 1 \n",
      "0 0 0 \n",
      "0 0 0 \n",
      "0 0 1 \n",
      "2 0 0 \n",
      "0 0 0 \n"
     ]
    },
    {
     "data": {
      "text/plain": [
       "0"
      ]
     },
     "execution_count": 4,
     "metadata": {},
     "output_type": "execute_result"
    }
   ],
   "source": [
    "class Cell:\n",
    "    \n",
    "    \n",
    "    def __init__(self, is_free=None, value=0):\n",
    "        if value == 0:\n",
    "            self.is_free = None\n",
    "            self.is_free = True\n",
    "        if value == 1 or value == 2:\n",
    "            self.is_free = False\n",
    "        self.value = value\n",
    "        \n",
    "    def __bool__(self):\n",
    "        return self.is_free\n",
    "\n",
    "\n",
    "\n",
    "class TicTacToe:\n",
    "    \n",
    "    \n",
    "    def __init__(self, cell=Cell):\n",
    "        self.pole = tuple(tuple(cell() for i in range(3)) for j in range(3))\n",
    "        \n",
    "        \n",
    "    def clear(self):\n",
    "        self.pole = tuple(tuple(Cell() for i in range(3)) for j in range(3))\n",
    "        \n",
    "    \n",
    "    def indxeror2(self, a, b):\n",
    "        if a < - 3 or a > 2 or b < - 3 or b > 2:\n",
    "            raise IndexError('неверный индекс клетки')\n",
    "    \n",
    "    def indxeror1(self, a):\n",
    "        if a < - 3 or a > 2:\n",
    "            raise IndexError('неверный индекс клетки')\n",
    "        \n",
    "    def __getitem__(self, key):\n",
    "        if key.__class__ == list:\n",
    "            self.indxeror2(key[0], key[1])\n",
    "            return self.pole[key[0]][key[1]].value\n",
    "        else:\n",
    "            self.indxeror1(key)\n",
    "            return tuple(i.value for i in self.pole[key])\n",
    "    \n",
    "    # def __setitem__(self, key, value):\n",
    "    #     self.indxeror2(key[0], key[1])\n",
    "    #     if self.pole[key[0]][key[1]].is_free == False:\n",
    "    #         raise ValueError('клетка уже занята')\n",
    "    #     self.pole[key[0]][key[1]].value = value\n",
    "    #     self.pole[key[0]][key[1]].is_free = False\n",
    "    \n",
    "    def __call__(self):\n",
    "        for i in self.pole:\n",
    "            for j in i:\n",
    "                print(j.value, end=' ')\n",
    "            print()\n",
    "        \n",
    "        \n",
    "        \n",
    "    \n",
    "    def __setitem__(self, key, value):\n",
    "        self.indxeror2(key[0], key[1])\n",
    "        if self.pole[key[0]][key[1]].is_free == False:\n",
    "            raise ValueError('клетка уже занята')\n",
    "        self.pole[key[0]][key[1]].value = value\n",
    "        self.pole[key[0]][key[1]].is_free = False\n",
    "        self()\n",
    "        \n",
    "    # def __getitem__(self, key):\n",
    "    #     if type(key[0]) == slice:\n",
    "    #         if key[1] < 3:\n",
    "    #             return tuple(self.pole[i][key[1]].value for i in range(3))\n",
    "    #         else:\n",
    "    #             raise IndexError('неверный индекс клетки')\n",
    "    #     elif type(key[1]) == slice:\n",
    "    #         if key[0] < 3:\n",
    "    #             return tuple(self.pole[key[0]][i].value for i in range(3))\n",
    "    #         else:\n",
    "    #             raise IndexError('неверный индекс клетки')\n",
    "    #     else:\n",
    "    #         if key[0] < 3 and key[1] < 3:\n",
    "    #             return self.pole[key[0]][key[1]].value\n",
    "    #         else:\n",
    "    #             raise IndexError('неверный индекс клетки')\n",
    "\n",
    "game = TicTacToe()\n",
    "\n",
    "game[0, 2] = 1\n",
    "game[1, 0] = 2\n",
    "game[0][1] # type: ignore"
   ]
  }
 ],
 "metadata": {
  "kernelspec": {
   "display_name": "Python 3.11.4 ('new-project')",
   "language": "python",
   "name": "python3"
  },
  "language_info": {
   "codemirror_mode": {
    "name": "ipython",
    "version": 3
   },
   "file_extension": ".py",
   "mimetype": "text/x-python",
   "name": "python",
   "nbconvert_exporter": "python",
   "pygments_lexer": "ipython3",
   "version": "3.11.4"
  },
  "orig_nbformat": 4,
  "vscode": {
   "interpreter": {
    "hash": "3232d2155832baa8b4ac70bdd98aa642f839fb8374a9f3371205e12b3075d286"
   }
  }
 },
 "nbformat": 4,
 "nbformat_minor": 2
}

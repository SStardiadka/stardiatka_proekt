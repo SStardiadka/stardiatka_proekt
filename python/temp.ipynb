{
 "cells": [
  {
   "cell_type": "code",
   "execution_count": 7,
   "metadata": {},
   "outputs": [
    {
     "name": "stdout",
     "output_type": "stream",
     "text": [
      "воспроизведение видео Python\n",
      "воспроизведение видео Python ООП\n"
     ]
    }
   ],
   "source": [
    "class Video:\n",
    "     \n",
    "    def create(self, name):\n",
    "        self.name = name\n",
    "\n",
    "    def play(self):\n",
    "        print(f\"воспроизведение видео {self.name}\")\n",
    "\n",
    "\n",
    "class YouTube:\n",
    "    videos = []\n",
    "    \n",
    "    @classmethod\n",
    "    def add_video(cls, video):\n",
    "        cls.videos.append(video)\n",
    "    @classmethod\n",
    "    def play(cls, video_indx):\n",
    "        cls.videos[video_indx].play()\n",
    "\n",
    "\n",
    "v1 = Video()\n",
    "v2 = Video()\n",
    "\n",
    "v1.create(\"Python\")\n",
    "v2.create(\"Python ООП\")\n",
    "\n",
    "YouTube.add_video(v1)\n",
    "YouTube.add_video(v2)\n",
    "\n",
    "YouTube.play(0)\n",
    "YouTube.play(1)\n",
    "        "
   ]
  }
 ],
 "metadata": {
  "kernelspec": {
   "display_name": "Python 3.10.6 64-bit",
   "language": "python",
   "name": "python3"
  },
  "language_info": {
   "codemirror_mode": {
    "name": "ipython",
    "version": 3
   },
   "file_extension": ".py",
   "mimetype": "text/x-python",
   "name": "python",
   "nbconvert_exporter": "python",
   "pygments_lexer": "ipython3",
   "version": "3.10.6"
  },
  "orig_nbformat": 4,
  "vscode": {
   "interpreter": {
    "hash": "26de051ba29f2982a8de78e945f0abaf191376122a1563185a90213a26c5da77"
   }
  }
 },
 "nbformat": 4,
 "nbformat_minor": 2
}

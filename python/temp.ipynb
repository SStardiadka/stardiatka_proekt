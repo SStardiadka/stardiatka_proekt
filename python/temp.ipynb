{
 "cells": [
  {
   "cell_type": "code",
   "execution_count": 8,
   "metadata": {},
   "outputs": [
    {
     "name": "stdout",
     "output_type": "stream",
     "text": [
      "дима запретил букву а\n",
      "дим зпретил букву б\n",
      "дим зпретил укву в\n",
      "дим зпретил уку д\n",
      "им зпретил уку е\n",
      "им зпртил уку з\n",
      "им пртил уку и\n",
      "м пртл уку к\n",
      "м пртл уу л\n",
      "м прт уу м\n",
      "прт уу п\n",
      "рт уу р\n",
      "т уу т\n",
      "уу у\n",
      "\n"
     ]
    }
   ],
   "source": [
    "def zapret_bykvi(name):   \n",
    "    alf = 'абвгдеёжзийклмнопрстуфхцчшщъыьэюя'\n",
    "    str = name + ' запретил букву'\n",
    "    lst = []\n",
    "    for i in alf:\n",
    "        if i in str:\n",
    "            lst.append(str + ' ' + i +'\\n')\n",
    "            str = str.replace(i, '')\n",
    "            str= ' '.join(str.split())\n",
    "    a = ''.join(lst)\n",
    "    return a\n",
    "print(zapret_bykvi('дима'))"
   ]
  }
 ],
 "metadata": {
  "kernelspec": {
   "display_name": "Python 3.10.6 64-bit",
   "language": "python",
   "name": "python3"
  },
  "language_info": {
   "codemirror_mode": {
    "name": "ipython",
    "version": 3
   },
   "file_extension": ".py",
   "mimetype": "text/x-python",
   "name": "python",
   "nbconvert_exporter": "python",
   "pygments_lexer": "ipython3",
   "version": "3.10.6"
  },
  "orig_nbformat": 4,
  "vscode": {
   "interpreter": {
    "hash": "26de051ba29f2982a8de78e945f0abaf191376122a1563185a90213a26c5da77"
   }
  }
 },
 "nbformat": 4,
 "nbformat_minor": 2
}

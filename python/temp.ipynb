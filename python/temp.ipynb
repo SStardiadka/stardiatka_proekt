{
 "cells": [
  {
   "cell_type": "code",
   "execution_count": 3,
   "metadata": {},
   "outputs": [
    {
     "name": "stdout",
     "output_type": "stream",
     "text": [
      "[1, '1', 'qw']\n",
      "<form>\n",
      "Логин: 1\n",
      "Пароль: 1\n",
      "Email: qw\n",
      "</form>)\n"
     ]
    }
   ],
   "source": [
    "class ValidateString:\n",
    "    def __init__(self, min_length=3, max_length=100):\n",
    "        self.min_length = min_length\n",
    "        self.max_length = max_length\n",
    "        \n",
    "    \n",
    "    def validate(self, string):\n",
    "        return string.__class__ == str and self.min_length < len(string) < self.max_length\n",
    "    \n",
    "class StringValue:\n",
    "    \n",
    "    def __init__(self, validator=ValidateString()):\n",
    "        self.validator = validator\n",
    "        \n",
    "    def __set_name__(self, owner, name):\n",
    "        self.name = '_' + name \n",
    "        \n",
    "    def __get__(self, isinstance, owner):\n",
    "        return getattr(isinstance, self.name)\n",
    "    \n",
    "    def __set__(self, isinstanse, value):\n",
    "        if self.validator.validate(value):\n",
    "            return setattr(isinstanse, self.name, value)\n",
    "\n",
    "\n",
    "class RegisterForm:\n",
    "    login = StringValue()\n",
    "    password = StringValue() \n",
    "    email = StringValue()\n",
    "    \n",
    "    def __init__(self, login, password, email):\n",
    "        self._login = login\n",
    "        self._password = password\n",
    "        self._email = email\n",
    "    \n",
    "    def get_fields(self):\n",
    "        return [self._login, self._password, self._email]\n",
    "    \n",
    "    def show(self):\n",
    "        print(f'''<form>\n",
    "Логин: {self.login}\n",
    "Пароль: {self.password}\n",
    "Email: {self.email}\n",
    "</form>)''')\n",
    "        \n",
    "        \n",
    "res = RegisterForm(1, '1', '1')\n",
    "res.email = 'qw'\n",
    "\n",
    "print(res.get_fields())\n",
    "res.show()"
   ]
  }
 ],
 "metadata": {
  "kernelspec": {
   "display_name": "Python 3.11.1 64-bit",
   "language": "python",
   "name": "python3"
  },
  "language_info": {
   "codemirror_mode": {
    "name": "ipython",
    "version": 3
   },
   "file_extension": ".py",
   "mimetype": "text/x-python",
   "name": "python",
   "nbconvert_exporter": "python",
   "pygments_lexer": "ipython3",
   "version": "3.11.1"
  },
  "orig_nbformat": 4,
  "vscode": {
   "interpreter": {
    "hash": "5238573367df39f7286bb46f9ff5f08f63a01a80960060ce41e3c79b190280fa"
   }
  }
 },
 "nbformat": 4,
 "nbformat_minor": 2
}

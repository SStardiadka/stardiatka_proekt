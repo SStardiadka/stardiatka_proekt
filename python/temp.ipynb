{
 "cells": [
  {
   "cell_type": "code",
   "execution_count": 28,
   "metadata": {},
   "outputs": [
    {
     "name": "stdout",
     "output_type": "stream",
     "text": [
      "hi &lt;a&gt; dima &lt;/a&gt; my 49\n",
      "сумарная цена автомобилей 600\n",
      "АЛЕКСЕЙ\n",
      "НИКОЛАЙ\n",
      "ИВАН\n",
      "\n"
     ]
    }
   ],
   "source": [
    "from jinja2 import Template\n",
    "# экранирование символов\n",
    "class Name:\n",
    "    def __init__(self, name, age) -> None:   \n",
    "        self.name = name\n",
    "        self.age = age\n",
    "        \n",
    "tma = Name('<a> dima </a>', 49)      \n",
    "tm = Template('hi {{tma.name | e}} my {{tma.age}}').render(tma=tma)\n",
    "print(tm)\n",
    "\n",
    "# сумма цены\n",
    "lst =[{'модель':'опель', 'цена':100},\n",
    "      {'модель':'москвичь', 'цена': 200},\n",
    "      {'модель':'жигули', 'цена': 300}\n",
    "]\n",
    "listt ='сумарная цена автомобилей {{ lst | sum(attribute = \"цена\")  }}'\n",
    "sm = Template(listt)\n",
    "summ = sm.render(lst = lst)\n",
    "print(summ)\n",
    "\n",
    "# блок филтр\n",
    "persons = [\n",
    "    {\"name\": \"Алексей\", \"old\": 18, \"weight\": 78.5},\n",
    "    {\"name\": \"Николай\", \"old\": 28, \"weight\": 82.3},\n",
    "    {\"name\": \"иван\", \"old\": 33, \"weight\": 94.0}\n",
    "]\n",
    " \n",
    "tpl = '''\n",
    "{%- for u in users -%}\n",
    "{% filter upper %}{{u.name}}{% endfilter %}\n",
    "{% endfor -%}\n",
    "'''\n",
    " \n",
    "tm = Template(tpl)\n",
    "msg = tm.render(users = persons)\n",
    " \n",
    "print(msg)\n",
    "\n",
    "\n",
    "\n",
    "\n",
    "\n"
   ]
  }
 ],
 "metadata": {
  "kernelspec": {
   "display_name": "Python 3.11.1 64-bit",
   "language": "python",
   "name": "python3"
  },
  "language_info": {
   "codemirror_mode": {
    "name": "ipython",
    "version": 3
   },
   "file_extension": ".py",
   "mimetype": "text/x-python",
   "name": "python",
   "nbconvert_exporter": "python",
   "pygments_lexer": "ipython3",
   "version": "3.11.1"
  },
  "orig_nbformat": 4,
  "vscode": {
   "interpreter": {
    "hash": "5238573367df39f7286bb46f9ff5f08f63a01a80960060ce41e3c79b190280fa"
   }
  }
 },
 "nbformat": 4,
 "nbformat_minor": 2
}

{
 "cells": [
  {
   "cell_type": "code",
   "execution_count": 42,
   "metadata": {},
   "outputs": [
    {
     "ename": "MemoryError",
     "evalue": "",
     "output_type": "error",
     "traceback": [
      "\u001b[1;31m---------------------------------------------------------------------------\u001b[0m",
      "\u001b[1;31mMemoryError\u001b[0m                               Traceback (most recent call last)",
      "\u001b[1;32mc:\\stardiatka_proekt\\python\\temp.ipynb Ячейка 1\u001b[0m in \u001b[0;36m<cell line: 2>\u001b[1;34m()\u001b[0m\n\u001b[0;32m      <a href='vscode-notebook-cell:/c%3A/stardiatka_proekt/python/temp.ipynb#W0sZmlsZQ%3D%3D?line=0'>1</a>\u001b[0m c \u001b[39m=\u001b[39m \u001b[39mint\u001b[39m(\u001b[39minput\u001b[39m())\n\u001b[1;32m----> <a href='vscode-notebook-cell:/c%3A/stardiatka_proekt/python/temp.ipynb#W0sZmlsZQ%3D%3D?line=1'>2</a>\u001b[0m dk \u001b[39m=\u001b[39m{k\u001b[39m+\u001b[39m\u001b[39m1\u001b[39m: v \u001b[39mfor\u001b[39;00m k , v \u001b[39min\u001b[39;00m \u001b[39menumerate\u001b[39m(\u001b[39m'\u001b[39m\u001b[39m'\u001b[39m\u001b[39m.\u001b[39mjoin([\u001b[39mstr\u001b[39m(i)[::\u001b[39m-\u001b[39m\u001b[39m1\u001b[39m] \u001b[39mfor\u001b[39;00m i \u001b[39min\u001b[39;00m \u001b[39mrange\u001b[39m(\u001b[39m1\u001b[39m, c \u001b[39m/\u001b[39m\u001b[39m/\u001b[39m \u001b[39m2\u001b[39m \u001b[39m+\u001b[39m\u001b[39m6\u001b[39m)]))}\n\u001b[0;32m      <a href='vscode-notebook-cell:/c%3A/stardiatka_proekt/python/temp.ipynb#W0sZmlsZQ%3D%3D?line=2'>3</a>\u001b[0m \u001b[39mprint\u001b[39m(dk[c])\n\u001b[0;32m      <a href='vscode-notebook-cell:/c%3A/stardiatka_proekt/python/temp.ipynb#W0sZmlsZQ%3D%3D?line=3'>4</a>\u001b[0m a \u001b[39m=\u001b[39m [\u001b[39m'\u001b[39m\u001b[39m'\u001b[39m\u001b[39m.\u001b[39mjoin(\u001b[39mstr\u001b[39m(i)[::\u001b[39m-\u001b[39m\u001b[39m1\u001b[39m] \u001b[39mfor\u001b[39;00m i \u001b[39min\u001b[39;00m \u001b[39mrange\u001b[39m(\u001b[39m1\u001b[39m, c\u001b[39m+\u001b[39m\u001b[39m1\u001b[39m))]\n",
      "\u001b[1;32mc:\\stardiatka_proekt\\python\\temp.ipynb Ячейка 1\u001b[0m in \u001b[0;36m<listcomp>\u001b[1;34m(.0)\u001b[0m\n\u001b[0;32m      <a href='vscode-notebook-cell:/c%3A/stardiatka_proekt/python/temp.ipynb#W0sZmlsZQ%3D%3D?line=0'>1</a>\u001b[0m c \u001b[39m=\u001b[39m \u001b[39mint\u001b[39m(\u001b[39minput\u001b[39m())\n\u001b[1;32m----> <a href='vscode-notebook-cell:/c%3A/stardiatka_proekt/python/temp.ipynb#W0sZmlsZQ%3D%3D?line=1'>2</a>\u001b[0m dk \u001b[39m=\u001b[39m{k\u001b[39m+\u001b[39m\u001b[39m1\u001b[39m: v \u001b[39mfor\u001b[39;00m k , v \u001b[39min\u001b[39;00m \u001b[39menumerate\u001b[39m(\u001b[39m'\u001b[39m\u001b[39m'\u001b[39m\u001b[39m.\u001b[39mjoin([\u001b[39mstr\u001b[39m(i)[::\u001b[39m-\u001b[39m\u001b[39m1\u001b[39m] \u001b[39mfor\u001b[39;00m i \u001b[39min\u001b[39;00m \u001b[39mrange\u001b[39m(\u001b[39m1\u001b[39m, c \u001b[39m/\u001b[39m\u001b[39m/\u001b[39m \u001b[39m2\u001b[39m \u001b[39m+\u001b[39m\u001b[39m6\u001b[39m)]))}\n\u001b[0;32m      <a href='vscode-notebook-cell:/c%3A/stardiatka_proekt/python/temp.ipynb#W0sZmlsZQ%3D%3D?line=2'>3</a>\u001b[0m \u001b[39mprint\u001b[39m(dk[c])\n\u001b[0;32m      <a href='vscode-notebook-cell:/c%3A/stardiatka_proekt/python/temp.ipynb#W0sZmlsZQ%3D%3D?line=3'>4</a>\u001b[0m a \u001b[39m=\u001b[39m [\u001b[39m'\u001b[39m\u001b[39m'\u001b[39m\u001b[39m.\u001b[39mjoin(\u001b[39mstr\u001b[39m(i)[::\u001b[39m-\u001b[39m\u001b[39m1\u001b[39m] \u001b[39mfor\u001b[39;00m i \u001b[39min\u001b[39;00m \u001b[39mrange\u001b[39m(\u001b[39m1\u001b[39m, c\u001b[39m+\u001b[39m\u001b[39m1\u001b[39m))]\n",
      "\u001b[1;31mMemoryError\u001b[0m: "
     ]
    }
   ],
   "source": [
    "c = int(input())\n",
    "dk ={k+1: v for k , v in enumerate(''.join([str(i)[::-1] for i in range(1, c // 2 +6)]))}\n",
    "print(dk[c])\n",
    "a = [''.join(str(i)[::-1] for i in range(1, c+1))]\n",
    "print(a)\n",
    "print(dk)\n",
    "\n"
   ]
  }
 ],
 "metadata": {
  "kernelspec": {
   "display_name": "Python 3.10.6 64-bit",
   "language": "python",
   "name": "python3"
  },
  "language_info": {
   "codemirror_mode": {
    "name": "ipython",
    "version": 3
   },
   "file_extension": ".py",
   "mimetype": "text/x-python",
   "name": "python",
   "nbconvert_exporter": "python",
   "pygments_lexer": "ipython3",
   "version": "3.10.6"
  },
  "orig_nbformat": 4,
  "vscode": {
   "interpreter": {
    "hash": "26de051ba29f2982a8de78e945f0abaf191376122a1563185a90213a26c5da77"
   }
  }
 },
 "nbformat": 4,
 "nbformat_minor": 2
}

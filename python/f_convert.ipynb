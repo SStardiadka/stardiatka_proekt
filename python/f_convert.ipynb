{
 "cells": [
  {
   "cell_type": "code",
   "execution_count": 14,
   "metadata": {},
   "outputs": [
    {
     "name": "stdout",
     "output_type": "stream",
     "text": [
      "['3', '50', '4', '7', '5', '4']\n",
      "[['3', 'Сергей'], ['50', 'Николай'], ['4', 'Елена'], ['7', 'Владимир'], ['5', 'Юлия'], ['4', 'Светлана']]\n"
     ]
    }
   ],
   "source": [
    "lst_in = ['3 Сергей', '50 Николай', '4 Елена', '7 Владимир', '5 Юлия', '4 Светлана']\n",
    "key_list = [i.split()[0] for i in lst_in]\n",
    "lst = [[l.split()[0],l.split()[1]]  for l in lst_in]\n",
    "print(key_list)\n",
    "print(lst)"
   ]
  }
 ],
 "metadata": {
  "kernelspec": {
   "display_name": "Python 3.10.6 64-bit",
   "language": "python",
   "name": "python3"
  },
  "language_info": {
   "codemirror_mode": {
    "name": "ipython",
    "version": 3
   },
   "file_extension": ".py",
   "mimetype": "text/x-python",
   "name": "python",
   "nbconvert_exporter": "python",
   "pygments_lexer": "ipython3",
   "version": "3.10.8"
  },
  "orig_nbformat": 4,
  "vscode": {
   "interpreter": {
    "hash": "26de051ba29f2982a8de78e945f0abaf191376122a1563185a90213a26c5da77"
   }
  }
 },
 "nbformat": 4,
 "nbformat_minor": 2
}

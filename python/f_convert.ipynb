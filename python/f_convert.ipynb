{
 "cells": [
  {
   "cell_type": "code",
   "execution_count": 14,
   "metadata": {},
   "outputs": [
    {
     "name": "stdout",
     "output_type": "stream",
     "text": [
      "['3', '50', '4', '7', '5', '4']\n",
      "[['3', 'Сергей'], ['50', 'Николай'], ['4', 'Елена'], ['7', 'Владимир'], ['5', 'Юлия'], ['4', 'Светлана']]\n"
     ]
    }
   ],
   "source": [
    "lst_in = ['3 Сергей', '50 Николай', '4 Елена', '7 Владимир', '5 Юлия', '4 Светлана']\n",
    "key_list = [i.split()[0] for i in lst_in]\n",
    "lst = [[l.split()[0],l.split()[1]]  for l in lst_in]\n",
    "print(key_list)\n",
    "print(lst)"
   ]
  }
 ],
 "metadata": {
  "interpreter": {
   "hash": "fb4569285eef3a3450cb62085a5b1e0da4bce0af555edc33dcf29baf3acc1368"
  },
  "kernelspec": {
   "display_name": "Python 3.10.4 64-bit",
   "language": "python",
   "name": "python3"
  },
  "language_info": {
   "codemirror_mode": {
    "name": "ipython",
    "version": 3
   },
   "file_extension": ".py",
   "mimetype": "text/x-python",
   "name": "python",
   "nbconvert_exporter": "python",
   "pygments_lexer": "ipython3",
   "version": "3.10.4"
  },
  "orig_nbformat": 4
 },
 "nbformat": 4,
 "nbformat_minor": 2
}

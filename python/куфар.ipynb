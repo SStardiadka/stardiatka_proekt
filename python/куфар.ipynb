{
 "cells": [
  {
   "cell_type": "code",
   "execution_count": 1,
   "metadata": {},
   "outputs": [],
   "source": [
    "from urllib.request import urlopen\n",
    "import re\n",
    "s = urlopen(\"https://www.kufar.by/l/r~mogilev/videokarty\").read().decode('utf-8')\n",
    "a = re.findall(r'class=\\\"styles_title__wj__Y\\\">(.+?)</h3><p class|<span>(\\d+)', s)\n",
    "with open(r'Wfiles\\data.txt','w', encoding=\"utf-8\") as out:\n",
    "    print(s, file=out)\n",
    "dk = {}\n",
    "for i in range(len(a)):\n",
    "    if i % 2 == 0:\n",
    "        dk.setdefault(a[i][0], a[i + 1][1])\n",
    "with open(r'Wfiles\\data111.txt','w', encoding=\"utf-8\") as out1:\n",
    "    for i in dk:\n",
    "        print(i,'***', dk[i], file=out1)\n",
    "    print(len(dk), file=out1)\n"
   ]
  }
 ],
 "metadata": {
  "kernelspec": {
   "display_name": "Python 3.10.6 64-bit",
   "language": "python",
   "name": "python3"
  },
  "language_info": {
   "codemirror_mode": {
    "name": "ipython",
    "version": 3
   },
   "file_extension": ".py",
   "mimetype": "text/x-python",
   "name": "python",
   "nbconvert_exporter": "python",
   "pygments_lexer": "ipython3",
   "version": "3.10.6"
  },
  "orig_nbformat": 4,
  "vscode": {
   "interpreter": {
    "hash": "26de051ba29f2982a8de78e945f0abaf191376122a1563185a90213a26c5da77"
   }
  }
 },
 "nbformat": 4,
 "nbformat_minor": 2
}

{
 "cells": [
  {
   "cell_type": "code",
   "execution_count": 1,
   "metadata": {},
   "outputs": [
    {
     "ename": "IndexError",
     "evalue": "list index out of range",
     "output_type": "error",
     "traceback": [
      "\u001b[1;31m---------------------------------------------------------------------------\u001b[0m",
      "\u001b[1;31mIndexError\u001b[0m                                Traceback (most recent call last)",
      "\u001b[1;32mc:\\stardiatka_proekt\\python\\куфар.ipynb Ячейка 1\u001b[0m in \u001b[0;36m<cell line: 8>\u001b[1;34m()\u001b[0m\n\u001b[0;32m      <a href='vscode-notebook-cell:/c%3A/stardiatka_proekt/python/%D0%BA%D1%83%D1%84%D0%B0%D1%80.ipynb#W0sZmlsZQ%3D%3D?line=7'>8</a>\u001b[0m \u001b[39mfor\u001b[39;00m i \u001b[39min\u001b[39;00m \u001b[39mrange\u001b[39m(\u001b[39mlen\u001b[39m(a)):\n\u001b[0;32m      <a href='vscode-notebook-cell:/c%3A/stardiatka_proekt/python/%D0%BA%D1%83%D1%84%D0%B0%D1%80.ipynb#W0sZmlsZQ%3D%3D?line=8'>9</a>\u001b[0m     \u001b[39mif\u001b[39;00m i \u001b[39m%\u001b[39m \u001b[39m2\u001b[39m \u001b[39m==\u001b[39m \u001b[39m0\u001b[39m:\n\u001b[1;32m---> <a href='vscode-notebook-cell:/c%3A/stardiatka_proekt/python/%D0%BA%D1%83%D1%84%D0%B0%D1%80.ipynb#W0sZmlsZQ%3D%3D?line=9'>10</a>\u001b[0m         dk\u001b[39m.\u001b[39msetdefault(a[i][\u001b[39m0\u001b[39m], a[i \u001b[39m+\u001b[39;49m \u001b[39m1\u001b[39;49m][\u001b[39m1\u001b[39m])\n\u001b[0;32m     <a href='vscode-notebook-cell:/c%3A/stardiatka_proekt/python/%D0%BA%D1%83%D1%84%D0%B0%D1%80.ipynb#W0sZmlsZQ%3D%3D?line=10'>11</a>\u001b[0m \u001b[39mwith\u001b[39;00m \u001b[39mopen\u001b[39m(\u001b[39mr\u001b[39m\u001b[39m'\u001b[39m\u001b[39mWfiles\u001b[39m\u001b[39m\\\u001b[39m\u001b[39mdata111.txt\u001b[39m\u001b[39m'\u001b[39m,\u001b[39m'\u001b[39m\u001b[39mw\u001b[39m\u001b[39m'\u001b[39m, encoding\u001b[39m=\u001b[39m\u001b[39m\"\u001b[39m\u001b[39mutf-8\u001b[39m\u001b[39m\"\u001b[39m) \u001b[39mas\u001b[39;00m out1:\n\u001b[0;32m     <a href='vscode-notebook-cell:/c%3A/stardiatka_proekt/python/%D0%BA%D1%83%D1%84%D0%B0%D1%80.ipynb#W0sZmlsZQ%3D%3D?line=11'>12</a>\u001b[0m     \u001b[39mfor\u001b[39;00m i \u001b[39min\u001b[39;00m dk:\n",
      "\u001b[1;31mIndexError\u001b[0m: list index out of range"
     ]
    }
   ],
   "source": [
    "from urllib.request import urlopen\n",
    "import re\n",
    "s = urlopen(\"https://www.kufar.by/l/r~mogilev/videokarty\").read().decode('utf-8')\n",
    "a = re.findall(r'class=\\\"styles_title__wj__Y\\\">(.+?)</h3><p class|<span>(\\d+)', s)\n",
    "with open(r'Wfiles\\data.txt','w', encoding=\"utf-8\") as out:\n",
    "    print(a, file=out)\n",
    "dk = {}\n",
    "for i in range(len(a)):\n",
    "    if i % 2 == 0:\n",
    "        dk.setdefault(a[i][0], a[i + 1][1])\n",
    "with open(r'Wfiles\\data111.txt','w', encoding=\"utf-8\") as out1:\n",
    "    for i in dk:\n",
    "        print(i,'***', dk[i], file=out1)\n",
    "    print(len(dk), file=out1)\n",
    "\n"
   ]
  }
 ],
 "metadata": {
  "kernelspec": {
   "display_name": "Python 3.10.6 64-bit",
   "language": "python",
   "name": "python3"
  },
  "language_info": {
   "codemirror_mode": {
    "name": "ipython",
    "version": 3
   },
   "file_extension": ".py",
   "mimetype": "text/x-python",
   "name": "python",
   "nbconvert_exporter": "python",
   "pygments_lexer": "ipython3",
   "version": "3.10.8"
  },
  "orig_nbformat": 4,
  "vscode": {
   "interpreter": {
    "hash": "26de051ba29f2982a8de78e945f0abaf191376122a1563185a90213a26c5da77"
   }
  }
 },
 "nbformat": 4,
 "nbformat_minor": 2
}

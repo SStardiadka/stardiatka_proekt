{
 "cells": [
  {
   "cell_type": "code",
   "execution_count": 1,
   "metadata": {},
   "outputs": [],
   "source": [
    "from gtts import gTTS\n",
    "text = '''дмитрий запретил букву а\n",
    "дмитрий зпретил букву б\n",
    "дмитрий зпретил укву в\n",
    "дмитрий зпретил уку д\n",
    "митрий зпретил уку е\n",
    "митрий зпртил уку з\n",
    "митрий пртил уку и\n",
    "мтрй пртл уку й\n",
    "мтр пртл уку к\n",
    "мтр пртл уу л\n",
    "мтр прт уу м\n",
    "тр прт уу п\n",
    "тр рт уу р\n",
    "т т уу т\n",
    "уу у'''\n",
    "\n",
    "obj = gTTS(text, lang='ru')\n",
    "obj.save('mp3\\zapret.mp3')"
   ]
  }
 ],
 "metadata": {
  "kernelspec": {
   "display_name": "Python 3.10.6 64-bit",
   "language": "python",
   "name": "python3"
  },
  "language_info": {
   "codemirror_mode": {
    "name": "ipython",
    "version": 3
   },
   "file_extension": ".py",
   "mimetype": "text/x-python",
   "name": "python",
   "nbconvert_exporter": "python",
   "pygments_lexer": "ipython3",
   "version": "3.10.6"
  },
  "orig_nbformat": 4,
  "vscode": {
   "interpreter": {
    "hash": "26de051ba29f2982a8de78e945f0abaf191376122a1563185a90213a26c5da77"
   }
  }
 },
 "nbformat": 4,
 "nbformat_minor": 2
}
